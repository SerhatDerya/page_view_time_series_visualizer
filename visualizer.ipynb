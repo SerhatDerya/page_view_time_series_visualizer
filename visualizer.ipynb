{
 "cells": [
  {
   "cell_type": "code",
   "execution_count": 126,
   "id": "3a957299-7fd2-4bfd-a6b4-39a970b53633",
   "metadata": {},
   "outputs": [],
   "source": [
    "import pandas as pd\n",
    "import matplotlib.pyplot as plt\n",
    "import seaborn as sns\n",
    "import preprocessor"
   ]
  },
  {
   "cell_type": "code",
   "execution_count": 127,
   "id": "882b7521-c87e-42b5-8aea-013f76c01394",
   "metadata": {},
   "outputs": [],
   "source": [
    "df = preprocessor.preprocess()"
   ]
  },
  {
   "cell_type": "code",
   "execution_count": 128,
   "id": "54c538c8-aef0-4ffc-b02f-80b087d07b45",
   "metadata": {},
   "outputs": [],
   "source": [
    "def draw_line_plot():\n",
    "    plt.figure(figsize=(15,8))\n",
    "    sns.lineplot(x=\"date\", y=\"value\", color=\"r\", data=df);\n",
    "    plt.title(\"Daily freeCodeCamp Forum Page Views 5/2016-12/2019\");\n",
    "    plt.ylabel(\"Page Views\");\n",
    "    plt.xlabel(\"Date\");"
   ]
  },
  {
   "cell_type": "code",
   "execution_count": 129,
   "id": "68042882-babe-47eb-8f86-c63c9ac39955",
   "metadata": {},
   "outputs": [],
   "source": [
    "def draw_bar_plot():\n",
    "    df_res = df.reset_index()\n",
    "    plt.figure(figsize=(8,6));\n",
    "    sns.barplot(x=df_res.date.dt.year, y=df_res.value, hue=df_res.date.dt.month, palette=\"tab10\");\n",
    "    plt.xlabel(\"Years\");\n",
    "    plt.ylabel(\"Average Page Views\");\n",
    "    plt.legend(title=\"Month\");"
   ]
  },
  {
   "cell_type": "code",
   "execution_count": 131,
   "id": "680e1661-f327-41b2-992e-213def67d7e4",
   "metadata": {},
   "outputs": [],
   "source": [
    "def draw_box_plot():\n",
    "    plt.subplot(1,2,1);\n",
    "    df_res = df.reset_index()\n",
    "    sns.boxplot(x=df_res.date.dt.year, y=df_res.value);\n",
    "    plt.title(\"Year-Wise Boxplot (Trend)\");\n",
    "    plt.xlabel(\"Year\");\n",
    "    plt.ylabel(\"Page Views\");\n",
    "\n",
    "    df_res['month'] = [d.strftime('%b') for d in df_res.date]\n",
    "    plt.subplot(1,2,2);\n",
    "    sns.boxplot(x=df_res.month, y=df_res.value);\n",
    "    plt.title(\"Month-Wise Boxplot (Seasonality)\");\n",
    "    plt.xlabel(\"Month\");\n",
    "    plt.ylabel(\"Page Views\");\n",
    "\n",
    "    plt.subplots_adjust(left=9, right=11);"
   ]
  },
  {
   "cell_type": "code",
   "execution_count": null,
   "id": "42e06aa2-79d2-4652-96cb-0b43affb694d",
   "metadata": {},
   "outputs": [],
   "source": []
  }
 ],
 "metadata": {
  "kernelspec": {
   "display_name": "Python 3 (ipykernel)",
   "language": "python",
   "name": "python3"
  },
  "language_info": {
   "codemirror_mode": {
    "name": "ipython",
    "version": 3
   },
   "file_extension": ".py",
   "mimetype": "text/x-python",
   "name": "python",
   "nbconvert_exporter": "python",
   "pygments_lexer": "ipython3",
   "version": "3.9.7"
  }
 },
 "nbformat": 4,
 "nbformat_minor": 5
}
